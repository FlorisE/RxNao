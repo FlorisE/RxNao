{
 "cells": [
  {
   "cell_type": "markdown",
   "metadata": {},
   "source": [
    "# Kinematics\n",
    "## Pose of a rigid body\n",
    "Let <i>O-xyz</i> be the orthonormal reference frame and $x$, $y$, $z$ be the unit vectors of the frame axes.\n",
    "\n",
    "The position of a point $o'$ with respect to the coordinate frame <i>O-xyz</i> is expressed by the relation\n",
    "\n",
    "$$o' = o'_{x}x + o'_{y}y + o'_{z}z$$\n",
    "\n",
    "where $o'_{x}$, $o'_{y}$ and $o'_{z}$ denote the components of the vector $o' \\in \\mathbb{R}^3$ along the frame axes. "
   ]
  },
  {
   "cell_type": "markdown",
   "metadata": {},
   "source": [
    "We can implement this relationship in python as follows:"
   ]
  },
  {
   "cell_type": "code",
   "execution_count": 8,
   "metadata": {
    "collapsed": false
   },
   "outputs": [],
   "source": [
    "def relative_position(o_p_x, o_p_y, o_p_z, x, y, z):\n",
    "    ''' position of point O\\' with respect to the coordinate frame O-xyz.\n",
    "        all parameters should be 3x1 vectors '''\n",
    "    return o_p_x * x + o_p_y * y + o_p_z * z"
   ]
  },
  {
   "cell_type": "code",
   "execution_count": 9,
   "metadata": {
    "collapsed": false
   },
   "outputs": [
    {
     "data": {
      "text/plain": [
       "75"
      ]
     },
     "execution_count": 9,
     "metadata": {},
     "output_type": "execute_result"
    }
   ],
   "source": [
    "relative_position(5, 5, 5, 5, 5, 5)"
   ]
  },
  {
   "cell_type": "markdown",
   "metadata": {},
   "source": [
    "The position of $o'$ can be compactly written as the $3 \\times 1$ vector:\n",
    "\n",
    "$$\\begin{equation}\n",
    "o' = \\left[\n",
    "    \\begin{array}{c}\n",
    "      o'_{x}\\\\\n",
    "      o'_{y}\\\\\n",
    "      o'_{z}\n",
    "    \\end{array}\n",
    "\\right]\n",
    "\\end{equation}\n",
    "\\tag{2.1}$$\n",
    "\n",
    "Vector $o'$ is bound: Both its line and point of application and its direction and norm are prescribed."
   ]
  },
  {
   "cell_type": "markdown",
   "metadata": {},
   "source": [
    "Let <i>O'-x'y'z'</i> be an orthonormal frame with origin in $o'$ and let $x'$, $y'$ and $z'$ be unit vectors of the frame axes. There vectors are expressed with respect to the reference frame <i>O-xyz</i> by the equations:\n",
    "\n",
    "$$\n",
    "\\begin{array}{c}\n",
    "x' = x'_{x}x + x'_{y}y + x'_{z}z\\\\\n",
    "y' = y'_{x}x + y'_{y}y + y'_{z}z\\\\\n",
    "z' = z'_{x}x + z'_{y}y + z'_{z}\n",
    "\\end{array}\n",
    "\\tag{2.2}\n",
    "$$\n",
    "\n",
    "The components of each unit vector are the direction cosines of the axes of frame <i>O'-x'y'z'</i> with respect to the reference frame <i>O-xyz</i>."
   ]
  },
  {
   "cell_type": "code",
   "execution_count": 15,
   "metadata": {
    "collapsed": true
   },
   "outputs": [],
   "source": [
    "def vector_from_ref(r, x, y, z):\n",
    "    ''' calculate a vector to x, y, z based on a reference frame r '''\n",
    "    return r[x] * x + r[y] * y + r_[z] * z\n",
    "\n",
    "# r_x_p = {x: [], y: [], x: []}\n",
    "# x_p = vector_from_ref(r, x, y, z)"
   ]
  },
  {
   "cell_type": "markdown",
   "metadata": {},
   "source": [
    "## Rotation matrix\n",
    "\n",
    "The three vectors in (2.2) can be described using the following $3 \\times 3$ matrix:\n",
    "\n",
    "$$\n",
    "R = \\left[x' y' z'\\right] = \n",
    "\\left[\n",
    "  \\begin{array}{ccc}\n",
    "      x'_{x} & y'_{x} & z'_{x}\\\\\n",
    "      x'_{y} & y'_{y} & z'_{y}\\\\\n",
    "      x'_{z} & y'_{z} & z'_{z}\n",
    "  \\end{array}\\right] = \\left[\n",
    "  \\begin{array}{ccc}\n",
    "    x'^Tx & y'^Tx & z'^Tx \\\\\n",
    "    x'^Ty & y'^Ty & z'^Ty \\\\\n",
    "    x'^Tz & y'^Tz & z'^Tz\n",
    "  \\end{array}\\right]\n",
    "\\tag{2.3}\n",
    "$$\n",
    "\n"
   ]
  },
  {
   "cell_type": "markdown",
   "metadata": {},
   "source": [
    "We can represent this matrix in python as follows:"
   ]
  },
  {
   "cell_type": "code",
   "execution_count": 22,
   "metadata": {
    "collapsed": true
   },
   "outputs": [],
   "source": [
    "x = 5\n",
    "y = 5\n",
    "z = 5\n",
    "\n",
    "x_pt = 2\n",
    "y_pt = 2\n",
    "z_pt = 2\n",
    "\n",
    "x_p_x = x_pt * x\n",
    "x_p_y = x_pt * y\n",
    "x_p_z = x_pt * z\n",
    "\n",
    "y_p_x = y_pt * x\n",
    "y_p_y = y_pt * y\n",
    "y_p_z = y_pt * z\n",
    "\n",
    "z_p_x = z_pt * x\n",
    "z_p_y = z_pt * y\n",
    "z_p_z = z_pt * z\n",
    "\n",
    "x_p = [[x_p_x], [x_p_y], [x_p_z]]\n",
    "y_p = [[y_p_x], [y_p_y], [y_p_z]]\n",
    "z_p = [[z_p_x], [z_p_y], [z_p_z]]\n",
    "\n",
    "R = [x_p, y_p, x_p]"
   ]
  },
  {
   "cell_type": "code",
   "execution_count": 21,
   "metadata": {
    "collapsed": false
   },
   "outputs": [
    {
     "data": {
      "text/plain": [
       "[[[10], [10], [10]], [[10], [10], [10]], [[10], [10], [10]]]"
      ]
     },
     "execution_count": 21,
     "metadata": {},
     "output_type": "execute_result"
    }
   ],
   "source": [
    "R"
   ]
  },
  {
   "cell_type": "markdown",
   "metadata": {},
   "source": [
    "The column vectors of matrix $R$ are mutually orthogonal, hence\n",
    "\n",
    "$$\\begin{array}{ccc}x'^Ty' = 0 & y'^Tz' = 0 & z'^Tx' = 0\\end{array}.$$\n",
    "\n",
    "And they have unit form\n",
    "\n",
    "$$\\begin{array}{ccc}x'^Tx' = 1 & y'^Ty' = 1 & z'^Tz' = 1  \\end{array}  $$\n",
    "\n",
    "Thus $R$ is an orthogonal matrix:\n",
    "\n",
    "$$\n",
    "R^TR = I_3\n",
    "\\tag{2.4}\n",
    "$$\n",
    "\n",
    "By multipying both sides by the inverse matrix $R^{-1}$ we obtain:\n",
    "$$\n",
    "R^T = R^{-1}\n",
    "\\tag{2.5}\n",
    "$$\n",
    "\n",
    "I.e., the transpose of the rotation matrix equals its inverse. It is also the case that:\n",
    "$$  det(R) =\n",
    "\\begin{cases}\n",
    "1,  & \\text{if the frame is right handed} \\\\\n",
    "-1, & \\text{if the frame is left handed.}\n",
    "\\end{cases}$$\n",
    "\n",
    "We denote $R \\in SO(m)$ where $SO(m)$ represent the <i>special orthonormal group</i> of the real $m \\times m$ matrices with orthonormal columns and determinant equal to 1."
   ]
  },
  {
   "cell_type": "markdown",
   "metadata": {},
   "source": [
    "### Elementary rotations\n",
    "\n",
    "\n",
    "Elementary rotations are rotations of the reference frame about one of the coordinate axes. Counter-clockwise rotations are positive.\n",
    "\n",
    "Suppose reference frame <i>O-xyz</i> is rotated by an angle $\\alpha$ about axis $z$ and let <i>O-x'y'z'</i> be the rotated frame. \n",
    "\n",
    "$$\n",
    "\\begin{array}{ccc}\n",
    "x' = \\left[\\begin{array}{c}\n",
    "cos \\alpha \\\\\n",
    "sin \\alpha \\\\\n",
    "0\n",
    "\\end{array}\\right] &\n",
    "y' = \\left[\\begin{array}{c}\n",
    "-sin \\alpha \\\\\n",
    "cos \\alpha \\\\\n",
    "0\n",
    "\\end{array}\\right] &\n",
    "z' = \\left[\\begin{array}{c}\n",
    "0 \\\\\n",
    "0 \\\\\n",
    "1\n",
    "\\end{array}\\right]\n",
    "\\end{array}.\n",
    "$$\n",
    "\n",
    "Thus the rotation matrix of frame <i>O-x'y'z'</i> with respect to frame <i>O-xyz</i> is\n",
    "$$\n",
    "R_z(\\alpha) = \\left[\\begin{array}{ccc}\n",
    "cos \\alpha & -sin \\alpha & 0 \\\\\n",
    "sin \\alpha & cos \\alpha  & 0 \\\\\n",
    "0          &           0 & 1\n",
    "\\end{array}\\right]\n",
    "\\tag{2.6}\n",
    "$$\n",
    "\n",
    "In a similar manner, rotation matrixes of angle $\\beta$ about axis $y$ can be defined as\n",
    "$$\n",
    "R_y(\\beta) = \\left[\\begin{array}{ccc}\n",
    "cos \\beta  & 0 & sin \\beta \\\\\n",
    "0          & 1 & 0         \\\\\n",
    "-sin \\beta & 0 & cos \\beta\n",
    "\\end{array}\\right]\n",
    "\\tag{2.7}\n",
    "$$\n",
    "and angle $\\gamma$ about axis $x$ can be defined as\n",
    "$$\n",
    "R_x(\\gamma) = \\left[\\begin{array}{ccc}\n",
    "1 & 0          & 0           \\\\\n",
    "0 & cos \\gamma & -sin \\gamma \\\\\n",
    "0 & sin \\gamma & cos \\gamma\n",
    "\\end{array}\\right]\n",
    "\\tag{2.8}\n",
    "$$\n",
    "It can be shown that the following holds:\n",
    "$$\n",
    "\\begin{array}{cc}R_k(-\\vartheta)=R^T_k(\\vartheta) & k = x,y,z\\end{array}\n",
    "\\tag{2.9}\n",
    "$$"
   ]
  },
  {
   "cell_type": "code",
   "execution_count": 27,
   "metadata": {
    "collapsed": true
   },
   "outputs": [],
   "source": [
    "from math import cos, sin\n",
    "\n",
    "def r_x(gamma):\n",
    "    return [[1,          0,           0], \n",
    "            [0, cos(gamma), -sin(gamma)], \n",
    "            [0, sin(gamma),  cos(gamma)]]\n",
    "\n",
    "def r_y(beta):\n",
    "    return [[ cos(beta), 0, sin(beta)],\n",
    "            [         0, 1,         1],\n",
    "            [-sin(beta), 1, cos(beta)]]\n",
    "\n",
    "def r_z(alpha):\n",
    "    return [[ cos(alpha), -sin(alpha), 0],\n",
    "            [ sin(alpha),  cos(alpha), 0],\n",
    "            [          0,           0, 1]]"
   ]
  },
  {
   "cell_type": "code",
   "execution_count": 34,
   "metadata": {
    "collapsed": false
   },
   "outputs": [
    {
     "name": "stdout",
     "output_type": "stream",
     "text": [
      "[[1, 0, 0], [0, -1.0, -1.2246467991473532e-16], [0, 1.2246467991473532e-16, -1.0]]\n",
      "[[-1.0, 0, 1.2246467991473532e-16], [0, 1, 1], [-1.2246467991473532e-16, 1, -1.0]]\n",
      "[[-1.0, -1.2246467991473532e-16, 0], [1.2246467991473532e-16, -1.0, 0], [0, 0, 1]]\n"
     ]
    }
   ],
   "source": [
    "from math import pi\n",
    "\n",
    "print r_x(pi)\n",
    "print r_y(pi)\n",
    "print r_z(pi)"
   ]
  },
  {
   "cell_type": "markdown",
   "metadata": {},
   "source": [
    "The geometric meaning of matrix $R$ is that it describes the rotation about an axis in space needed to align the axes of the reference frame with the corresponding axes of the body frame."
   ]
  },
  {
   "cell_type": "markdown",
   "metadata": {},
   "source": [
    "### Vector representation\n",
    "\n",
    "Let $o' = 0$ (where $0$ denotes the $3 \\times 1$ null vector), i.e. the origin of the body frame coincides with the origin of the reference frame. A point $P$ in space can be represented as\n",
    "\n",
    "$$\n",
    "p = \\left[\\begin{array}{c}\n",
    "p_x \\\\\n",
    "p_y \\\\\n",
    "p_z\n",
    "\\end{array}\\right]\n",
    "$$\n",
    "\n",
    "with respect to frame <i>O-xyz</i>, or as\n",
    "\n",
    "$$\n",
    "p' = \\left[\\begin{array}{c}\n",
    "p'_x \\\\\n",
    "p'_y \\\\\n",
    "p'_z\n",
    "\\end{array}\\right]\n",
    "$$\n",
    "\n",
    "with respect to frame <i>O-x'y'z'</i>.\n",
    "\n",
    "Since $p$ and $p'$ are representations of the same point $P$, it is\n",
    "\n",
    "$$\n",
    "p = p'_xx' + p'_yy + p'_zz' = \\left[\\begin{array}{ccc}x' & y' & z'\\end{array}\\right]p'\n",
    "$$\n",
    "and, accounting for 2.3, it is\n",
    "\n",
    "$$\n",
    "p = Rp'.\n",
    "\\tag{2.10}\n",
    "$$\n",
    "\n",
    "The rotation matrix $R$ represents the transformation matrix of the vector coordinates in frame <i>O-x'y'z'</i> into the coordinates of the same vector in frame <i>O-xyz</i>. Given 2.4, we have\n",
    "$$\n",
    "p' = R^Tp.\n",
    "\\tag{2.11}\n",
    "$$"
   ]
  },
  {
   "cell_type": "markdown",
   "metadata": {},
   "source": [
    "#### Example 2.1\n",
    "\n",
    "Consider two frames with common origin mutually rotated by an angle $\\alpha$ about the axis $z$. Let $p$ and $p'$ be the vectors of the coordinates of a point $P$, respectively expressed in the frames <i>O-xyz</i> and <i>O-x'y'z'</i>. On the basis of simple geometry, the relationship between the coordinates of $P$ in the two frames is\n",
    "\n",
    "$$\n",
    "\\begin{array}{l}\n",
    "p_x = p'_x cos \\alpha - p'_y sin \\alpha \\\\\n",
    "p_y = p'_x sin \\alpha + p'_y cos \\alpha \\\\\n",
    "p_z = P'_z\n",
    "\\end{array}\n",
    "$$\n",
    "\n",
    "Hence matrix 2.6 also represents the transformation of a vector from one frame to another frame with the same origin.\n",
    "\n",
    "#### Example 2.2\n",
    "\n",
    "Consider the vector $p$ which is obtained by rotating a vector $p'$ in the xy-plane by an angle $\\alpha$ about axis $z$ of the reference frame. Let $(p'_x,p'_y,p'_z)$ be the coordinates of vector $p'$. The vector $p$ has components\n",
    "$$\n",
    "\\begin{array}{l}\n",
    "p_x = p'_x cos \\alpha - p'_y sin \\alpha \\\\\n",
    "p_y = p'_x sin \\alpha + p'_y cos \\alpha \\\\\n",
    "p_z = p'_z\n",
    "\\end{array}\n",
    "$$\n",
    "From this we recognize that $p$ can be expressed as \n",
    "$$\n",
    "p = R_z(\\alpha)p'\n",
    "$$\n",
    "where $R_z(\\alpha)$ is the rotation matrix from 2.6."
   ]
  },
  {
   "cell_type": "markdown",
   "metadata": {},
   "source": [
    "A rotation matrix attains three equivalent geometric meanings:\n",
    "* It describes the mutual orientation between two coordinate frames; its column vectors are the direction cosines of the axes of the rotated frame with respect to the original frame.\n",
    "* It represents the coordinate transformation between the coordinates of a point expressed in two different frames (with common origin).\n",
    "* It is the operator that allows the rotation of a vector in the same coordinate frame."
   ]
  },
  {
   "cell_type": "code",
   "execution_count": null,
   "metadata": {
    "collapsed": true
   },
   "outputs": [],
   "source": []
  }
 ],
 "metadata": {
  "kernelspec": {
   "display_name": "Python 2",
   "language": "python",
   "name": "python2"
  },
  "language_info": {
   "codemirror_mode": {
    "name": "ipython",
    "version": 2
   },
   "file_extension": ".py",
   "mimetype": "text/x-python",
   "name": "python",
   "nbconvert_exporter": "python",
   "pygments_lexer": "ipython2",
   "version": "2.7.11"
  }
 },
 "nbformat": 4,
 "nbformat_minor": 0
}
