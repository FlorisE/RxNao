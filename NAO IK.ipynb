{
 "cells": [
  {
   "cell_type": "code",
   "execution_count": 5,
   "metadata": {
    "collapsed": false
   },
   "outputs": [],
   "source": [
    "from math import cos, tan, sin\n",
    "import time\n",
    "import naoqi\n",
    "import almath\n",
    "from numpy import matrix, zeros, invert\n",
    "from naoqi import ALProxy\n",
    "\n",
    "IP = \"192.168.10.2\"\n",
    "PORT = 9559\n",
    "\n",
    "proxy = ALProxy(\"ALMotion\", IP, PORT)\n",
    "\n",
    "MaxSpeed = 0.2"
   ]
  },
  {
   "cell_type": "code",
   "execution_count": 6,
   "metadata": {
    "collapsed": true
   },
   "outputs": [],
   "source": [
    "names = \"RArm\"\n",
    "stiffness = 1.0\n",
    "\n",
    "proxy.stiffnessInterpolation(names, stiffness, 1.0)"
   ]
  },
  {
   "cell_type": "code",
   "execution_count": 10,
   "metadata": {
    "collapsed": true
   },
   "outputs": [],
   "source": [
    "def stiff(joint):\n",
    "    proxy.stiffnessInterpolation(joint, 1.0, 1.0)"
   ]
  },
  {
   "cell_type": "code",
   "execution_count": 11,
   "metadata": {
    "collapsed": true
   },
   "outputs": [],
   "source": [
    "def unstiff(joint):\n",
    "    proxy.stiffnessInterpolation(joint, 0.0, 1.0)"
   ]
  },
  {
   "cell_type": "code",
   "execution_count": 12,
   "metadata": {
    "collapsed": true
   },
   "outputs": [],
   "source": [
    "def grab(hand): \n",
    "    proxy.setAngles(hand, 0, MaxSpeed)\n",
    "def release(hand):\n",
    "    proxy.setAngles(hand, 1, MaxSpeed)"
   ]
  },
  {
   "cell_type": "code",
   "execution_count": 235,
   "metadata": {
    "collapsed": false
   },
   "outputs": [],
   "source": [
    "sensor_angles = proxy.getAngles([\"RArm\"], True)"
   ]
  },
  {
   "cell_type": "code",
   "execution_count": 236,
   "metadata": {
    "collapsed": false
   },
   "outputs": [
    {
     "data": {
      "text/plain": [
       "[0.03225588798522949,\n",
       " 0.015298128128051758,\n",
       " 0.004559993743896484,\n",
       " 0.03490658476948738,\n",
       " -0.03072190284729004,\n",
       " 0.9567999839782715]"
      ]
     },
     "execution_count": 236,
     "metadata": {},
     "output_type": "execute_result"
    }
   ],
   "source": [
    "sensor_angles"
   ]
  },
  {
   "cell_type": "code",
   "execution_count": 225,
   "metadata": {
    "collapsed": true
   },
   "outputs": [],
   "source": [
    "proxy.setAngles([\"RArm\"], sensor_angles, MaxSpeed)"
   ]
  },
  {
   "cell_type": "code",
   "execution_count": 109,
   "metadata": {
    "collapsed": true
   },
   "outputs": [],
   "source": [
    "grab(\"RHand\")"
   ]
  },
  {
   "cell_type": "code",
   "execution_count": 110,
   "metadata": {
    "collapsed": false
   },
   "outputs": [],
   "source": [
    "release(\"RHand\")"
   ]
  },
  {
   "cell_type": "code",
   "execution_count": 247,
   "metadata": {
    "collapsed": false
   },
   "outputs": [],
   "source": [
    "def set_angles(angles): # dict with joint name as key and angle as value\n",
    "    for k, v in angles.items():\n",
    "        proxy.setAngles(k, v, MaxSpeed)\n",
    "\n",
    "def angles(points, dry=False):\n",
    "    for i in range(0, len(points)):\n",
    "        px = points[i][0]\n",
    "        py = points[i][1]\n",
    "        pz = points[i][2]\n",
    "        \n",
    "        if px == 0:\n",
    "            theta1 = 0\n",
    "        else:\n",
    "            theta1 = math.atan(py/px)\n",
    "            \n",
    "        if pz == 0:\n",
    "            theta2 = 0\n",
    "        else:\n",
    "            theta2 = math.atan((math.cos(theta1) * px + math.sin(theta1)*py)/pz)\n",
    "            \n",
    "        if (math.sin(theta1) * px-math.cos(theta1)*py) == 0:\n",
    "            theta3 = 0\n",
    "        else:\n",
    "            theta3 = math.atan((math.cos(theta1)*math.cos(theta2)*px + \n",
    "                                math.sin(theta1)*math.cos(theta2)*py - \n",
    "                                                 math.sin(theta2)*pz)\n",
    "                               /(math.sin(theta1)*px-math.cos(theta1)*py))\n",
    "            \n",
    "        \n",
    "        if pow(math.cos(theta3), 2) - pow(math.sin(theta3), 2) == 0:\n",
    "            theta4 = 0\n",
    "        else:\n",
    "            theta4 = 1/(pow(math.cos(theta3), 2) - pow(math.sin(theta3), 2))\n",
    "        \n",
    "        jointAngles = {\"RShoulderPitch\": theta1, \n",
    "                       \"RShoulderRoll\": theta2,\n",
    "                       \"RElbowYaw\": theta3,\n",
    "                       \"RElbowRoll\": -theta4\n",
    "                      }\n",
    "        \n",
    "        theta1_valid = theta1 >= -2.0857 and theta1 <= 2.0857\n",
    "        theta2_valid = theta2 >= -1.3265 and theta2 <= 0.3142\n",
    "        theta3_valid = theta3 >= -2.0857 and theta3 <= 2.0857\n",
    "        theta4_valid = -theta4 >=  0.0349 and -theta4 <= 1.5446\n",
    "        \n",
    "        valid = theta1_valid and theta2_valid and theta3_valid and theta4_valid\n",
    "            \n",
    "        if not dry and valid:\n",
    "            set_angles(jointAngles)\n",
    "        else:\n",
    "            print jointAngles\n",
    "            print \"Theta 1 (RShoulderPitch) valid: \" + str(theta1_valid)\n",
    "            print \"Theta 2 (RShoulderRoll) valid: \" + str(theta2_valid)\n",
    "            print \"Theta 3 (RElbowYaw) valid: \" + str(theta3_valid)\n",
    "            print \"Theta 4 (RElbowRoll) valid: \" + str(theta4_valid)\n",
    "            \n",
    "        if i < len(points)-1:\n",
    "            time.sleep(0.5)"
   ]
  },
  {
   "cell_type": "code",
   "execution_count": 218,
   "metadata": {
    "collapsed": false
   },
   "outputs": [
    {
     "name": "stdout",
     "output_type": "stream",
     "text": [
      "{'RElbowRoll': -1.0, 'RElbowYaw': 0.0, 'RShoulderRoll': -0.9553166181245092, 'RShoulderPitch': -0.7853981633974483}\n",
      "Theta 1 (RShoulderPitch) valid: True\n",
      "Theta 2 (RShoulderRoll) valid: True\n",
      "Theta 3 (RElbowYaw) valid: True\n",
      "Theta 4 (RElbowRoll) valid: False\n"
     ]
    }
   ],
   "source": [
    "angles([[1, -1, -1]])#, [1, -0.5, -1], [1, 0.01, -0.8], [1, 0.5, -1.2], [1, 0.7, -1.57]])"
   ]
  },
  {
   "cell_type": "code",
   "execution_count": 13,
   "metadata": {
    "collapsed": true
   },
   "outputs": [],
   "source": [
    "unstiff(\"RArm\")"
   ]
  },
  {
   "cell_type": "code",
   "execution_count": 233,
   "metadata": {
    "collapsed": true
   },
   "outputs": [],
   "source": [
    "stiff(\"RArm\")"
   ]
  },
  {
   "cell_type": "code",
   "execution_count": 216,
   "metadata": {
    "collapsed": false
   },
   "outputs": [],
   "source": [
    "angles([[1, 0.7, -1.57]])"
   ]
  },
  {
   "cell_type": "code",
   "execution_count": 58,
   "metadata": {
    "collapsed": true
   },
   "outputs": [],
   "source": [
    "memory = ALProxy(\"ALMemory\", IP, PORT)"
   ]
  },
  {
   "cell_type": "code",
   "execution_count": 60,
   "metadata": {
    "collapsed": false
   },
   "outputs": [
    {
     "data": {
      "text/plain": [
       "[[1253146743, 948887],\n",
       " [0.08968264609575272,\n",
       "  0.04500041529536247,\n",
       "  0.1959732174873352,\n",
       "  0.2042326182126999],\n",
       " [0.07029280811548233,\n",
       "  -0.0014049189630895853,\n",
       "  0.17703573405742645,\n",
       "  0.0,\n",
       "  0.22338950634002686,\n",
       "  -0.019984006881713867],\n",
       " [-0.010429084300994873,\n",
       "  -0.015301856212317944,\n",
       "  0.412810742855072,\n",
       "  0.03843214735388756,\n",
       "  -0.00013380493328440934,\n",
       "  -0.021550489589571953],\n",
       " 0]"
      ]
     },
     "execution_count": 60,
     "metadata": {},
     "output_type": "execute_result"
    }
   ],
   "source": [
    "memory.getData(\"redBallDetected\")"
   ]
  },
  {
   "cell_type": "code",
   "execution_count": 61,
   "metadata": {
    "collapsed": true
   },
   "outputs": [],
   "source": [
    "ballInfo = memory.getData(\"redBallDetected\")"
   ]
  },
  {
   "cell_type": "code",
   "execution_count": 536,
   "metadata": {
    "collapsed": false
   },
   "outputs": [
    {
     "data": {
      "text/plain": [
       "[[1253155894, 171886],\n",
       " [-0.3952679932117462,\n",
       "  -0.2094249725341797,\n",
       "  0.14116714894771576,\n",
       "  0.14711670577526093],\n",
       " [0.07541408389806747,\n",
       "  -0.004984874743968248,\n",
       "  0.16874665021896362,\n",
       "  -1.862645149230957e-09,\n",
       "  0.3369056284427643,\n",
       "  -0.06600403785705566],\n",
       " [-0.000363372266292572,\n",
       "  -0.019275322556495667,\n",
       "  0.4065743088722229,\n",
       "  0.04832425341010094,\n",
       "  0.017599664628505707,\n",
       "  -0.08746590465307236],\n",
       " 0]"
      ]
     },
     "execution_count": 536,
     "metadata": {},
     "output_type": "execute_result"
    }
   ],
   "source": [
    "ballInfo"
   ]
  },
  {
   "cell_type": "code",
   "execution_count": 537,
   "metadata": {
    "collapsed": true
   },
   "outputs": [],
   "source": [
    "from math import atan \n",
    "\n",
    "def distance(ball_size, angle):\n",
    "    return ball_size / (tan(angle))"
   ]
  },
  {
   "cell_type": "code",
   "execution_count": 538,
   "metadata": {
    "collapsed": false
   },
   "outputs": [],
   "source": [
    "real_distance = (distance(0.03, ballInfo[1][2]) + distance(0.03, ballInfo[1][3])) / 2"
   ]
  },
  {
   "cell_type": "code",
   "execution_count": 539,
   "metadata": {
    "collapsed": false
   },
   "outputs": [
    {
     "data": {
      "text/plain": [
       "0.2067734622903446"
      ]
     },
     "execution_count": 539,
     "metadata": {},
     "output_type": "execute_result"
    }
   ],
   "source": [
    "real_distance"
   ]
  },
  {
   "cell_type": "code",
   "execution_count": 540,
   "metadata": {
    "collapsed": false
   },
   "outputs": [],
   "source": [
    "x = real_distance * math.sin(ballInfo[1][0]) * math.cos((math.pi / 2) + ballInfo[1][1])\n",
    "y = real_distance * math.sin(ballInfo[1][0]) * math.sin((math.pi / 2) + ballInfo[1][1])\n",
    "z = real_distance * math.cos(ballInfo[1][0])"
   ]
  },
  {
   "cell_type": "code",
   "execution_count": 541,
   "metadata": {
    "collapsed": false
   },
   "outputs": [
    {
     "data": {
      "text/plain": [
       "-0.016552643919127925"
      ]
     },
     "execution_count": 541,
     "metadata": {},
     "output_type": "execute_result"
    }
   ],
   "source": [
    "x"
   ]
  },
  {
   "cell_type": "code",
   "execution_count": 542,
   "metadata": {
    "collapsed": false
   },
   "outputs": [
    {
     "data": {
      "text/plain": [
       "-0.07787963415147181"
      ]
     },
     "execution_count": 542,
     "metadata": {},
     "output_type": "execute_result"
    }
   ],
   "source": [
    "y"
   ]
  },
  {
   "cell_type": "code",
   "execution_count": 543,
   "metadata": {
    "collapsed": false
   },
   "outputs": [
    {
     "data": {
      "text/plain": [
       "0.1908298647257709"
      ]
     },
     "execution_count": 543,
     "metadata": {},
     "output_type": "execute_result"
    }
   ],
   "source": [
    "z"
   ]
  },
  {
   "cell_type": "code",
   "execution_count": 429,
   "metadata": {
    "collapsed": true
   },
   "outputs": [],
   "source": [
    "camera = almath.Position6D(ballInfo[2])"
   ]
  },
  {
   "cell_type": "code",
   "execution_count": 546,
   "metadata": {
    "collapsed": true
   },
   "outputs": [],
   "source": [
    "ball_camera = almath.Position6D(z, -x, -y, 0, 0, 0) + camera"
   ]
  },
  {
   "cell_type": "code",
   "execution_count": 557,
   "metadata": {
    "collapsed": false
   },
   "outputs": [
    {
     "data": {
      "text/plain": [
       "Position6D(x=0.266179, y=0.011572, z=0.246742, wx=1.86265e-009, wy=0.335372, wz=-0.066004)"
      ]
     },
     "execution_count": 557,
     "metadata": {},
     "output_type": "execute_result"
    }
   ],
   "source": [
    "ball_camera"
   ]
  },
  {
   "cell_type": "code",
   "execution_count": 550,
   "metadata": {
    "collapsed": false
   },
   "outputs": [],
   "source": [
    "ball_camera_shoulder = ball_camera - almath.Position6D(0, -0.98, 1.00, 0, 0, 0)"
   ]
  },
  {
   "cell_type": "code",
   "execution_count": 551,
   "metadata": {
    "collapsed": false
   },
   "outputs": [
    {
     "data": {
      "text/plain": [
       "Position6D(x=0.266179, y=0.991572, z=-0.753258, wx=1.86265e-009, wy=0.335372, wz=-0.066004)"
      ]
     },
     "execution_count": 551,
     "metadata": {},
     "output_type": "execute_result"
    }
   ],
   "source": [
    "ball_camera_shoulder"
   ]
  },
  {
   "cell_type": "code",
   "execution_count": 101,
   "metadata": {
    "collapsed": true
   },
   "outputs": [],
   "source": [
    "stiff(\"RArm\")"
   ]
  },
  {
   "cell_type": "code",
   "execution_count": 560,
   "metadata": {
    "collapsed": false
   },
   "outputs": [
    {
     "name": "stdout",
     "output_type": "stream",
     "text": [
      "{'RElbowRoll': -1.0002560735223984, 'RElbowYaw': -1.5594822008978377, 'RShoulderRoll': 0.8237454595008504, 'RShoulderPitch': 0.04344729609189763}\n"
     ]
    }
   ],
   "source": [
    "angles([[ball_camera.x, ball_camera.y, ball_camera.z]], True)"
   ]
  },
  {
   "cell_type": "code",
   "execution_count": 9,
   "metadata": {
    "collapsed": false
   },
   "outputs": [
    {
     "ename": "NameError",
     "evalue": "name 'unstiff' is not defined",
     "output_type": "error",
     "traceback": [
      "\u001b[1;31m---------------------------------------------------------------------------\u001b[0m",
      "\u001b[1;31mNameError\u001b[0m                                 Traceback (most recent call last)",
      "\u001b[1;32m<ipython-input-9-feffa0deb5d4>\u001b[0m in \u001b[0;36m<module>\u001b[1;34m()\u001b[0m\n\u001b[1;32m----> 1\u001b[1;33m \u001b[0munstiff\u001b[0m\u001b[1;33m(\u001b[0m\u001b[1;34m\"RArm\"\u001b[0m\u001b[1;33m)\u001b[0m\u001b[1;33m\u001b[0m\u001b[0m\n\u001b[0m",
      "\u001b[1;31mNameError\u001b[0m: name 'unstiff' is not defined"
     ]
    }
   ],
   "source": [
    "unstiff(\"RArm\")"
   ]
  },
  {
   "cell_type": "markdown",
   "metadata": {
    "collapsed": true
   },
   "source": [
    "Arm start:"
   ]
  },
  {
   "cell_type": "code",
   "execution_count": 81,
   "metadata": {
    "collapsed": false
   },
   "outputs": [],
   "source": [
    "angles_start = [0.21940398216247559, # RShoulderPitch\n",
    "                0.05824995040893555, # RShoulderRoll\n",
    "                0.2822141647338867,  # RElbowYaw\n",
    "                0.06600403785705566, # RElbowRoll\n",
    "                -0.2516179084777832, # RWristYaw\n",
    "                0.9567999839782715]  # RHand\n",
    "\n",
    "[-0.03063797950744629,\n",
    " 0.08893013000488281,\n",
    " 0.7669579982757568,\n",
    " 1.0769100189208984,\n",
    " -0.04606199264526367,\n",
    " 0.9567999839782715]"
   ]
  },
  {
   "cell_type": "code",
   "execution_count": 85,
   "metadata": {
    "collapsed": true
   },
   "outputs": [],
   "source": [
    "# links     x       y       z\n",
    "links = [[  0.00, -98.00, 100.00], # Torso to RShoulderPitch\n",
    "         [  0.00,   0.00,   0.00], # RShoulderPitch to RShoulderRoll\n",
    "         [195.00,  15.00,   0.00], # RShoulderRoll to RElbowYaw\n",
    "         [  0.00,   0.00,   0.00], # RElbowYaw to RElbowRoll\n",
    "         [ 55.95,   0.00,   0.00]] # RElbowRoll to RWristYaw"
   ]
  },
  {
   "cell_type": "code",
   "execution_count": 95,
   "metadata": {
    "collapsed": true
   },
   "outputs": [],
   "source": [
    "proxy.setAngles(\"RWristYaw\", 0, MaxSpeed)"
   ]
  },
  {
   "cell_type": "code",
   "execution_count": 234,
   "metadata": {
    "collapsed": false
   },
   "outputs": [],
   "source": [
    "set_angles({\"RShoulderPitch\": 0, \n",
    "            \"RShoulderRoll\": 0,\n",
    "            \"RElbowYaw\": 0,\n",
    "            \"RElbowRoll\": 0,\n",
    "            \"RWristYaw\": 0,\n",
    "           })"
   ]
  },
  {
   "cell_type": "markdown",
   "metadata": {},
   "source": [
    "## Forward kinematics"
   ]
  },
  {
   "cell_type": "markdown",
   "metadata": {},
   "source": [
    "Transformation to hand from origin is defined as:\n",
    "$$\n",
    "T_o^h = T_o^S * A_1 * A_2 * A_3 * A_4 * A_5 * T_w^h \n",
    "$$"
   ]
  },
  {
   "cell_type": "markdown",
   "metadata": {},
   "source": [
    "Transformation to shoulder pitch from origin is defined as:\n",
    "$$\n",
    "T_o^s = \\left[ \\begin{array}{cccc}\n",
    "                1 & 0 & 0 &   0 \\\\\n",
    "                0 & 1 & 0 & -98 \\\\\n",
    "                0 & 0 & 1 & 100 \\\\\n",
    "                0 & 0 & 0 &   1\n",
    "                \\end{array} \\right]\n",
    "$$"
   ]
  },
  {
   "cell_type": "markdown",
   "metadata": {},
   "source": [
    "Or in Python as:"
   ]
  },
  {
   "cell_type": "code",
   "execution_count": 24,
   "metadata": {
    "collapsed": false
   },
   "outputs": [],
   "source": [
    "T_s_o = matrix([[1, 0, 0,  0    ], \n",
    "                [0, 1, 0, -0.098], \n",
    "                [0, 0, 1,  0.100], \n",
    "                [0, 0, 0,  1    ]])"
   ]
  },
  {
   "cell_type": "markdown",
   "metadata": {},
   "source": [
    "Transformation based on shoulder pitch is defined as:\n",
    "$$\n",
    "A_1 = \\left[ \\begin{array}{cccc}\n",
    "                cos_{\\theta_1} &  0 & -sin_{\\theta_1} & 0 \\\\\n",
    "                sin_{\\theta_1} &  0 &  cos_{\\theta_1} & 0 \\\\\n",
    "                            0 & -1 &              0 & 0 \\\\\n",
    "                            0 &  0 &              0 & 1\n",
    "                \\end{array} \\right]\n",
    "$$"
   ]
  },
  {
   "cell_type": "markdown",
   "metadata": {},
   "source": [
    "Or in Python as:"
   ]
  },
  {
   "cell_type": "code",
   "execution_count": 25,
   "metadata": {
    "collapsed": false
   },
   "outputs": [],
   "source": [
    "def A1(theta1):\n",
    "    return matrix([\n",
    "        [cos(theta1),  0, -sin(theta1), 0], \n",
    "        [sin(theta1),  0,  cos(theta1), 0],\n",
    "        [          0, -1,            0, 0],\n",
    "        [          0,  0,            0, 1]\n",
    "    ])"
   ]
  },
  {
   "cell_type": "markdown",
   "metadata": {},
   "source": [
    "Transformation based on shoulder roll is defined as:\n",
    "$$\n",
    "A_2 = \\left[ \\begin{array}{cccc}\n",
    "                cos_{\\theta_2} & 0 &  sin_{\\theta_2} & 0 \\\\\n",
    "                sin_{\\theta_2} & 0 & -cos_{\\theta_2} & 0 \\\\\n",
    "                            0 & 1 &                0 & 0 \\\\\n",
    "                            0 & 0 &                0 & 1\n",
    "                \\end{array} \\right]\n",
    "$$"
   ]
  },
  {
   "cell_type": "markdown",
   "metadata": {},
   "source": [
    "Or in Python as:"
   ]
  },
  {
   "cell_type": "code",
   "execution_count": 26,
   "metadata": {
    "collapsed": true
   },
   "outputs": [],
   "source": [
    "def A2(theta2):\n",
    "    return matrix([\n",
    "        [cos(theta2), 0,  sin(theta2), 0],\n",
    "        [sin(theta2), 0, -cos(theta2), 0],\n",
    "        [          0, 1,            0, 0],\n",
    "        [          0, 0,            0, 1]\n",
    "    ])"
   ]
  },
  {
   "cell_type": "markdown",
   "metadata": {},
   "source": [
    "Transformation based on elbow roll, including upper arm length of 105, is defined as:\n",
    "$$\n",
    "A_3 = \\left[ \\begin{array}{cccc}\n",
    "                cos_{\\theta_3+\\theta_3} &  0 &  sin_{\\theta_3+\\theta_3} &   0 \\\\\n",
    "                sin_{\\theta_3+\\theta_3} &  0 & -cos_{\\theta_3+\\theta_3} &   0 \\\\\n",
    "                                      0 & -1 &              0           & 105 \\\\\n",
    "                                      0 &  0 &              0           &   1\n",
    "                \\end{array} \\right]\n",
    "$$"
   ]
  },
  {
   "cell_type": "markdown",
   "metadata": {},
   "source": [
    "Or in Python as:"
   ]
  },
  {
   "cell_type": "code",
   "execution_count": 27,
   "metadata": {
    "collapsed": true
   },
   "outputs": [],
   "source": [
    "def A3(theta3):\n",
    "    return matrix([\n",
    "        [cos(theta3+theta3),  0,  sin(theta3+theta3), 0    ],\n",
    "        [sin(theta3+theta3),  0, -cos(theta3+theta3), 0    ],\n",
    "        [                 0, -1,                   0, 0.105],\n",
    "        [                 0,  0,                   0, 1    ]\n",
    "    ])"
   ]
  },
  {
   "cell_type": "markdown",
   "metadata": {},
   "source": [
    "Transformation based on elbow yaw is defined as:\n",
    "$$\n",
    "A_4 = \\left[ \\begin{array}{cccc}\n",
    "                cos_{\\theta_4} &  0 & -sin_{\\theta_4} & 0 \\\\\n",
    "                sin_{\\theta_4} &  0 &  cos_{\\theta_4} & 0 \\\\\n",
    "                             0 & -1 &               0 & 0 \\\\\n",
    "                             0 &  0 &               0 & 1\n",
    "                \\end{array} \\right]\n",
    "$$"
   ]
  },
  {
   "cell_type": "markdown",
   "metadata": {},
   "source": [
    "Or in Python as:"
   ]
  },
  {
   "cell_type": "code",
   "execution_count": 28,
   "metadata": {
    "collapsed": true
   },
   "outputs": [],
   "source": [
    "def A4(theta4):\n",
    "    return matrix([\n",
    "        [cos(theta4),  0, -sin(theta4), 0],\n",
    "        [sin(theta4),  0,  cos(theta4), 0],\n",
    "        [          0, -1,            0, 0],\n",
    "        [          0,  0,            0, 1]\n",
    "    ])"
   ]
  },
  {
   "cell_type": "markdown",
   "metadata": {},
   "source": [
    "Transformation based on wrist yaw, including lower arm length of 55.95, is defined as:\n",
    "$$\n",
    "A_5 = \\left[ \\begin{array}{cccc}\n",
    "                cos_{\\theta_5} &  0 & -sin_{\\theta_5} &  0    \\\\\n",
    "                sin_{\\theta_5} &  0 &  cos_{\\theta_5} &  0    \\\\\n",
    "                             0 & -1 &               0 & 55.95 \\\\\n",
    "                             0 &  0 &               0 &  1\n",
    "                \\end{array} \\right]\n",
    "$$"
   ]
  },
  {
   "cell_type": "markdown",
   "metadata": {},
   "source": [
    "Or in Python as:"
   ]
  },
  {
   "cell_type": "code",
   "execution_count": 29,
   "metadata": {
    "collapsed": true
   },
   "outputs": [],
   "source": [
    "def A5(theta5):\n",
    "    return matrix([\n",
    "        [cos(theta5),  0, -sin(theta5), 0      ],\n",
    "        [sin(theta5),  0,  cos(theta5), 0      ],\n",
    "        [          0, -1,            0, 0.05595],\n",
    "        [          0,  0,            0, 1      ]\n",
    "    ])"
   ]
  },
  {
   "cell_type": "markdown",
   "metadata": {},
   "source": [
    "Putting all angular matrices together we obtain:"
   ]
  },
  {
   "cell_type": "code",
   "execution_count": 30,
   "metadata": {
    "collapsed": true
   },
   "outputs": [],
   "source": [
    "def A(theta1, theta2, theta3, theta4, theta5):\n",
    "    return A1(theta1) * A2(theta2) * A3(theta3) * A4(theta4) * A5(theta5)"
   ]
  },
  {
   "cell_type": "markdown",
   "metadata": {},
   "source": [
    "Finally, for the transformation to hand from wrist, including x offset 57.75 and z offset 12.31, we have:\n",
    "$$\n",
    "T_w^h = \\left[ \\begin{array}{cccc}\n",
    "                1 & 0 & 0 &  57.75 \\\\\n",
    "                0 & 1 & 0 &   0    \\\\\n",
    "                0 & 0 & 1 & -12.31 \\\\\n",
    "                0 & 0 & 0 &   1\n",
    "                \\end{array} \\right]\n",
    "$$"
   ]
  },
  {
   "cell_type": "raw",
   "metadata": {},
   "source": [
    "Or in Python as:"
   ]
  },
  {
   "cell_type": "code",
   "execution_count": 31,
   "metadata": {
    "collapsed": true
   },
   "outputs": [],
   "source": [
    "T_h_w = matrix([[1, 0, 0,  0.05775], \n",
    "                [0, 1, 0,  0      ], \n",
    "                [0, 0, 1, -0.01231], \n",
    "                [0, 0, 0,  1      ]])"
   ]
  },
  {
   "cell_type": "markdown",
   "metadata": {},
   "source": [
    "Hence we can calculate the forward kinematics using the following function:"
   ]
  },
  {
   "cell_type": "code",
   "execution_count": 112,
   "metadata": {
    "collapsed": true
   },
   "outputs": [],
   "source": [
    "def fk(theta1, theta2, theta3, theta4, theta5):\n",
    "    #return T_s_o * A(theta1, theta2, theta3, theta4, theta5) * T_h_w * matrix([[0], [0], [0], [1]])\n",
    "    return A(theta1, theta2, theta3, theta4, theta5) * T_h_w * matrix([[0], [0], [0], [1]])"
   ]
  },
  {
   "cell_type": "code",
   "execution_count": 242,
   "metadata": {
    "collapsed": false
   },
   "outputs": [
    {
     "data": {
      "text/plain": [
       "matrix([[ 0.0572133 ],\n",
       "        [-0.10617721],\n",
       "        [ 0.14619106],\n",
       "        [ 1.        ]])"
      ]
     },
     "execution_count": 242,
     "metadata": {},
     "output_type": "execute_result"
    }
   ],
   "source": [
    "fk(0.03225588798522949,\n",
    " 0.015298128128051758,\n",
    " 0.004559993743896484,\n",
    " 0.03490658476948738,\n",
    " 0.03072190284729004)"
   ]
  },
  {
   "cell_type": "code",
   "execution_count": 243,
   "metadata": {
    "collapsed": false
   },
   "outputs": [
    {
     "name": "stdout",
     "output_type": "stream",
     "text": [
      "{'RElbowRoll': 1.666666666666667, 'RElbowYaw': 1.1071487177940904, 'RShoulderRoll': 0.7110116899482348, 'RShoulderPitch': -1.2975892503764892}\n",
      "Theta 1 (RShoulderPitch) valid: True\n",
      "Theta 2 (RShoulderRoll) valid: False\n",
      "Theta 3 (RElbowYaw) valid: True\n",
      "Theta 4 (RElbowRoll) valid: False\n"
     ]
    }
   ],
   "source": [
    "angles([[ 0.0572133,\n",
    "         -0.10617721 - 0.098,\n",
    "          0.14619106 + 0.10]], True)"
   ]
  },
  {
   "cell_type": "code",
   "execution_count": 229,
   "metadata": {
    "collapsed": false
   },
   "outputs": [
    {
     "name": "stdout",
     "output_type": "stream",
     "text": [
      "{'RElbowRoll': -1.0, 'RElbowYaw': 0, 'RShoulderRoll': 0.7117364018055012, 'RShoulderPitch': -1.3213151462473658}\n",
      "Theta 1 (RShoulderPitch) valid: True\n",
      "Theta 2 (RShoulderRoll) valid: False\n",
      "Theta 3 (RElbowYaw) valid: True\n",
      "Theta 4 (RElbowRoll) valid: False\n"
     ]
    }
   ],
   "source": [
    "angles([[0.05347554,\n",
    "        -0.11188138 - 0.098,\n",
    "         0.15109983 + 0.10]], True)"
   ]
  },
  {
   "cell_type": "code",
   "execution_count": 1,
   "metadata": {
    "collapsed": false
   },
   "outputs": [
    {
     "ename": "NameError",
     "evalue": "name 'ALProxy' is not defined",
     "output_type": "error",
     "traceback": [
      "\u001b[1;31m---------------------------------------------------------------------------\u001b[0m",
      "\u001b[1;31mNameError\u001b[0m                                 Traceback (most recent call last)",
      "\u001b[1;32m<ipython-input-1-a020b9c9dfdc>\u001b[0m in \u001b[0;36m<module>\u001b[1;34m()\u001b[0m\n\u001b[1;32m----> 1\u001b[1;33m \u001b[0mtracker\u001b[0m \u001b[1;33m=\u001b[0m \u001b[0mALProxy\u001b[0m\u001b[1;33m(\u001b[0m\u001b[1;34m\"ALTracker\"\u001b[0m\u001b[1;33m,\u001b[0m \u001b[0mIP\u001b[0m\u001b[1;33m,\u001b[0m \u001b[0mPORT\u001b[0m\u001b[1;33m)\u001b[0m\u001b[1;33m\u001b[0m\u001b[0m\n\u001b[0m",
      "\u001b[1;31mNameError\u001b[0m: name 'ALProxy' is not defined"
     ]
    }
   ],
   "source": [
    "tracker = ALProxy(\"ALTracker\", IP, PORT)"
   ]
  },
  {
   "cell_type": "code",
   "execution_count": 22,
   "metadata": {
    "collapsed": false
   },
   "outputs": [
    {
     "data": {
      "text/plain": [
       "[0.19570279121398926,\n",
       " -0.10751388221979141,\n",
       " 0.0018784627318382263,\n",
       " 0.14232617616653442,\n",
       " 0.40821823477745056,\n",
       " 0.03787563368678093]"
      ]
     },
     "execution_count": 22,
     "metadata": {},
     "output_type": "execute_result"
    }
   ],
   "source": [
    "proxy.getPosition(\"RHand\", 0, True)"
   ]
  },
  {
   "cell_type": "code",
   "execution_count": 65,
   "metadata": {
    "collapsed": true
   },
   "outputs": [],
   "source": [
    "stiff(\"RArm\")"
   ]
  },
  {
   "cell_type": "code",
   "execution_count": 21,
   "metadata": {
    "collapsed": false
   },
   "outputs": [],
   "source": [
    "proxy.setPositions(\"RArm\", 0, [0.20292888581752777,\n",
    " -0.10282715409994125,\n",
    " 0.01733347959816456,\n",
    " 0.12099570780992508,\n",
    " 0.32865583896636963,\n",
    " 0.06073509901762009], MaxSpeed, 63)"
   ]
  },
  {
   "cell_type": "code",
   "execution_count": 64,
   "metadata": {
    "collapsed": true
   },
   "outputs": [],
   "source": [
    "unstiff(\"RArm\")"
   ]
  },
  {
   "cell_type": "code",
   "execution_count": 33,
   "metadata": {
    "collapsed": false
   },
   "outputs": [
    {
     "data": {
      "text/plain": [
       "matrix([[ 0.04144972],\n",
       "        [-0.07774094],\n",
       "        [ 0.14645797],\n",
       "        [ 1.        ]])"
      ]
     },
     "execution_count": 33,
     "metadata": {},
     "output_type": "execute_result"
    }
   ],
   "source": [
    "fk(0.19570279121398926,\n",
    " -0.10751388221979141,\n",
    " 0.0018784627318382263,\n",
    " 0.14232617616653442,\n",
    " 0.40821823477745056)"
   ]
  },
  {
   "cell_type": "code",
   "execution_count": 76,
   "metadata": {
    "collapsed": true
   },
   "outputs": [],
   "source": [
    "stiff(\"RArm\")"
   ]
  },
  {
   "cell_type": "code",
   "execution_count": 77,
   "metadata": {
    "collapsed": false
   },
   "outputs": [],
   "source": [
    "time.sleep(0.1)\n",
    "proxy.setPositions(\"RArm\", 0, [0.5, -0.5, 0, 0, 0, 0], 0.2, 7)"
   ]
  },
  {
   "cell_type": "code",
   "execution_count": 78,
   "metadata": {
    "collapsed": true
   },
   "outputs": [],
   "source": [
    "unstiff(\"RArm\")"
   ]
  },
  {
   "cell_type": "code",
   "execution_count": 79,
   "metadata": {
    "collapsed": true
   },
   "outputs": [],
   "source": [
    "tracker = ALProxy(\"ALTracker\", IP, PORT)"
   ]
  },
  {
   "cell_type": "code",
   "execution_count": 80,
   "metadata": {
    "collapsed": true
   },
   "outputs": [],
   "source": [
    "stiff(\"RArm\")"
   ]
  },
  {
   "cell_type": "code",
   "execution_count": 88,
   "metadata": {
    "collapsed": false
   },
   "outputs": [],
   "source": [
    "tracker.registerTarget(\"RedBall\", 0.04)\n",
    "tracker.track(\"RedBall\")"
   ]
  },
  {
   "cell_type": "code",
   "execution_count": 81,
   "metadata": {
    "collapsed": true
   },
   "outputs": [],
   "source": [
    "unstiff(\"RArm\")"
   ]
  },
  {
   "cell_type": "code",
   "execution_count": 104,
   "metadata": {
    "collapsed": false
   },
   "outputs": [],
   "source": [
    "targetPos = tracker.getTargetPosition(0)"
   ]
  },
  {
   "cell_type": "code",
   "execution_count": 105,
   "metadata": {
    "collapsed": true
   },
   "outputs": [],
   "source": [
    "stiff(\"RArm\")"
   ]
  },
  {
   "cell_type": "code",
   "execution_count": 106,
   "metadata": {
    "collapsed": true
   },
   "outputs": [],
   "source": [
    "tracker.pointAt(\"RArm\", targetPos, 0, 0.2)"
   ]
  },
  {
   "cell_type": "code",
   "execution_count": 111,
   "metadata": {
    "collapsed": true
   },
   "outputs": [],
   "source": [
    "unstiff(\"RArm\")"
   ]
  },
  {
   "cell_type": "code",
   "execution_count": 102,
   "metadata": {
    "collapsed": false
   },
   "outputs": [
    {
     "data": {
      "text/plain": [
       "[0.18362721800804138, 0.03622455894947052, 0.04584433138370514]"
      ]
     },
     "execution_count": 102,
     "metadata": {},
     "output_type": "execute_result"
    }
   ],
   "source": [
    "targetPos"
   ]
  },
  {
   "cell_type": "code",
   "execution_count": 107,
   "metadata": {
    "collapsed": true
   },
   "outputs": [],
   "source": [
    "sensor_angles = proxy.getAngles([\"RArm\"], True)"
   ]
  },
  {
   "cell_type": "code",
   "execution_count": 108,
   "metadata": {
    "collapsed": false
   },
   "outputs": [
    {
     "data": {
      "text/plain": [
       "[0.2316758632659912,\n",
       " 0.28374814987182617,\n",
       " 0.0014920234680175781,\n",
       " 0.527738094329834,\n",
       " -0.1595778465270996,\n",
       " 0.9571999907493591]"
      ]
     },
     "execution_count": 108,
     "metadata": {},
     "output_type": "execute_result"
    }
   ],
   "source": [
    "sensor_angles"
   ]
  },
  {
   "cell_type": "code",
   "execution_count": 113,
   "metadata": {
    "collapsed": false
   },
   "outputs": [
    {
     "data": {
      "text/plain": [
       "matrix([[ 0.03094863],\n",
       "        [-0.01455497],\n",
       "        [ 0.02233063],\n",
       "        [ 1.        ]])"
      ]
     },
     "execution_count": 113,
     "metadata": {},
     "output_type": "execute_result"
    }
   ],
   "source": [
    "fk(0.2316758632659912,\n",
    " 0.28374814987182617,\n",
    " 0.0014920234680175781,\n",
    " 0.527738094329834,\n",
    " -0.1595778465270996)"
   ]
  },
  {
   "cell_type": "code",
   "execution_count": 110,
   "metadata": {
    "collapsed": false
   },
   "outputs": [
    {
     "data": {
      "text/plain": [
       "[0.17745570838451385, 0.000478528905659914, 0.07570284605026245]"
      ]
     },
     "execution_count": 110,
     "metadata": {},
     "output_type": "execute_result"
    }
   ],
   "source": [
    "targetPos"
   ]
  },
  {
   "cell_type": "code",
   "execution_count": null,
   "metadata": {
    "collapsed": true
   },
   "outputs": [],
   "source": []
  }
 ],
 "metadata": {
  "kernelspec": {
   "display_name": "Python 2",
   "language": "python",
   "name": "python2"
  },
  "language_info": {
   "codemirror_mode": {
    "name": "ipython",
    "version": 2
   },
   "file_extension": ".py",
   "mimetype": "text/x-python",
   "name": "python",
   "nbconvert_exporter": "python",
   "pygments_lexer": "ipython2",
   "version": "2.7.11"
  }
 },
 "nbformat": 4,
 "nbformat_minor": 0
}
