{
 "cells": [
  {
   "cell_type": "markdown",
   "metadata": {},
   "source": [
    "# Planning Algorithms"
   ]
  },
  {
   "cell_type": "markdown",
   "metadata": {},
   "source": [
    "## Discrete Feasible Planning\n",
    "\n",
    "###  Formulation 2.1\n",
    "1. A nonempty state space $X$, which is a finite or countably infinite set of states.\n",
    "2. For each state $x \\in X$, a finite action space $U(x)$.\n",
    "3. A state transition function $f$ that produces a state $f(x, u) \\in X$ for every $x \\in X$ and $u \\in U(x)$. The state transition equation is derived from $f$ as $x' = f(x, u)$.\n",
    "4. An initial state $x_I \\in X$.\n",
    "5. A goal set $X_G \\subset X$."
   ]
  },
  {
   "cell_type": "markdown",
   "metadata": {},
   "source": [
    "## Discrete Optimal Planning\n",
    "\n",
    "### Formulation 2.2 (Fixed-Length)\n",
    "1. All the components from 2.1, but with the assumption that X is finite.\n",
    "2. A number of stages $K$, which is the exact length of a plan (measured as the number of actions $u_1, u_2, \\dots, u_K$. States may also obtain a stage index, e.g. $x_{k+1}$ denotes the state obtained after $u_k$ is applied.\n",
    "3. Let $L$ denote a stage-additive cost (or loss) functional, which is applied to a $K$-step plan, $\\pi_K$. This means that the sequence ($u_1, \\dots, u_K$) of actions and sequence ($x_1, \\dots, x_{K+1}$) of states may appear in an expression of $L$. For convenience, let $F$ denote the final stage, $F = K + 1$ (the application of $u_K$ advances the stage to $K + 1$). The cost functional is:\n",
    "$$ \n",
    "L(\\pi_K) = \\sum\\limits_{k=1}^K l(x_k, u_k) + l_F(x_F) \n",
    "\\tag{2.4}\n",
    "$$\n",
    "\n",
    "The cost term $l(x_k, u_k)$ yields a real value for every $x_k \\in X$ and $u_k \\in U(x_k)$. The final term $l_F(x_F)$ is outside of the sum and is defined as:\n",
    "$$  l_F(x_F) =\n",
    "\\begin{cases}\n",
    "0 & \\text{if $x_F \\in X_G$} \\\\\n",
    "\\infty & \\text{otherwise}\n",
    "\\end{cases}$$"
   ]
  },
  {
   "cell_type": "markdown",
   "metadata": {},
   "source": [
    "In case of $k = F$ this reduces to:\n",
    "\n",
    "$$ \n",
    "G_F^*(x_F) = l_F(x_F)\n",
    "\\tag{2.6}\n",
    "$$"
   ]
  },
  {
   "cell_type": "markdown",
   "metadata": {},
   "source": [
    "Consider an algorithm that makes $K$ passes over $X$, each time computing $G_k^*$ from $G_{k+1}^*$ as $k$ ranges from $F$ down to 1. In the first iteration, $G_F^*$ is copied from $l_f$ without significant effort. In the second iteration, $G_k^*$ is computed for each $x_K \\in X$ as:\n",
    "\n",
    "$$\n",
    "G_K^*(x_K) = \\min_{u_K}\\left \\{ l(x_K, u_K) + l_F(x_F)\\right\\}\n",
    "\\tag{2.7}\n",
    "$$"
   ]
  },
  {
   "cell_type": "markdown",
   "metadata": {},
   "source": [
    "Since $l_F = G_F^*$ and $x_F = f(x_K, u_K)$, substitutions can be made to 2.7 to obtain:\n",
    "\n",
    "$$\n",
    "G_K^*(x_K) = \\min_{u_K}\\left \\{ l(x_K, u_K) + G_F^*(f(x_K, u_K))\\right\\}\n",
    "\\tag{2.8}\n",
    "$$\n",
    "\n",
    "This computes the costs of all optimal one-step plans from stage $K$ to stage $F = K + 1$."
   ]
  },
  {
   "cell_type": "markdown",
   "metadata": {},
   "source": [
    "Note that 2.5 can be written as:\n",
    "\n",
    "$$\n",
    "G_k^*(x_k)  = \\min_{u_k} \\left \\{ \\min_{u_{k+1},\\dots,u_K}\\left \\{ \n",
    "l(x_k, u_k) + \\sum\\limits_{i=k+1}^K l(x_i, u_i) + l_F(x_F)\n",
    "\\right \\} \\right \\}\n",
    "\\tag{2.9}\n",
    "$$\n",
    "\n",
    "by pulling the first term out of the sum and by seperating the minimization of $u_k$ from the rest, ranging from $u_{k+1}$ to $u_K$."
   ]
  },
  {
   "cell_type": "markdown",
   "metadata": {},
   "source": [
    "The second $min$ does not affect the $l(x_k, u_k)$ term, thus this term can be pulled outside to obtain\n",
    "\n",
    "$$\n",
    "G_k^*(x_k)  = \\min_{u_k} \\left \\{ l(x_k, u_k) +  \\min_{u_{k+1},\\dots,u_K}\\left \\{ \n",
    "\\sum\\limits_{i=k+1}^K l(x_i, u_i) + l_F(x_F)\n",
    "\\right \\} \\right \\}\n",
    "\\tag{2.10}\n",
    "$$"
   ]
  },
  {
   "cell_type": "markdown",
   "metadata": {},
   "source": [
    "The inner $min$ equals the definition of the optimal cost-to-go function $G_{k+1}^*$. Upon substitution, this yields the recurrence\n",
    "\n",
    "$$\n",
    "G_k^*(x_k)  = \\min_{u_k} \\left \\{ l(x_k, u_k) + G_{k+1}^*(x_{k+1}) \\right \\}\n",
    "\\tag{2.11}\n",
    "$$\n",
    "\n",
    "in which $x_{k+1} = f(x_k, u_k)$."
   ]
  },
  {
   "cell_type": "markdown",
   "metadata": {},
   "source": [
    "Value iteration proceeds as follows:\n",
    "\n",
    "$$\n",
    "G_F^* \\rightarrow G_K^* \\rightarrow G_{K-1}^* \\cdots G_k^* \\rightarrow G_{k-1}^* \\cdots G_2^* \\rightarrow G_1^*\n",
    "\\tag{2.12}\n",
    "$$"
   ]
  },
  {
   "cell_type": "markdown",
   "metadata": {},
   "source": [
    "### Forward value iteration\n",
    "\n",
    "$C_k^*$ denotes the optimal cost-to-come from stage 1 to stage $k$, optimized over all ($k-1$)-step plans. To preclude plans that do not start at $x_I$, $C_1^*$ is defined as:\n",
    "\n",
    "$$\n",
    "C_1^*(x_1) = l_I(x_1)\n",
    "\\tag{2.13}\n",
    "$$\n",
    "\n",
    "In which $l_I$ is a new function that yields $l_I(x_I) = 0$ and $l_I(x) = \\infty$ for all $x \\neq x_I$."
   ]
  },
  {
   "cell_type": "markdown",
   "metadata": {},
   "source": [
    "For an intermediate stage $k \\in \\{2, \\dots, K\\}$ the following represents the optimal cost-to-come:\n",
    "\n",
    "$$\n",
    "C_k^*(x_k) = \\min_{u_1,\\dots,u_{k-1}}\\left \\{ l_I(x_1) + \\sum\\limits_{i=1}^{k-1} l(x_i, u_i)\\right\\}\n",
    "\\tag{2.14}\n",
    "$$"
   ]
  },
  {
   "cell_type": "markdown",
   "metadata": {},
   "source": [
    "The final forward value iteration is the arrival at the final stage, $F$. The cost-to-come in this case is\n",
    "\n",
    "$$\n",
    "C_F^*(x_F) = \\min_{u_1,\\dots,u_K}\\left\\{l_I(x_1) + \\sum_{i=1}^K l(x_i, u_i)\\right\\}\n",
    "\\tag{2.15}\n",
    "$$"
   ]
  },
  {
   "cell_type": "markdown",
   "metadata": {},
   "source": [
    "We can determine $C_k^*$ from $C_{k-1}^*$ using the recurrence\n",
    "\n",
    "$$\n",
    "C_k^*(x_k) = \\min_{u_k^{-1} \\in U^{-1}(x_k)} \\left\\{ \n",
    "C_{k-1}^*(x_{k-1}) + l(x_{k-1}, u_{k-1})\n",
    "\\right\\}\n",
    "\\tag{2.16}\n",
    "$$\n",
    "\n",
    "in which $x_{k-1}=f^{-1}(x_k, u_k^{-1})$ and $u_{k-1} \\in U(x_{k-1})$ is the input to which $u_k^{-1} \\in U^{-1}(x_k)$ corresponds."
   ]
  },
  {
   "cell_type": "markdown",
   "metadata": {},
   "source": [
    "### Formulation 2.3 (Variable-Length)\n",
    "\n",
    "1. All components from 2.1 and stages from 2.2.\n",
    "2. Let $L$ denote a stage-additive cost functional, which may be applied to any $K$-step plan, $\\pi_K$, to yield\n",
    "$$\n",
    "L(\\pi_k) = \\sum_{k=1}^K l(x_k, u_k) + l_F(x_F) \n",
    "\\tag{2.17}\n",
    "$$\n",
    "3. Each $U(x)$ contains the special termination action $u_T$. If $u_T$ is applied at $x_k$, then the action is repeatedly applied forever, the state remains unchanged, and no more cost accumulates. Thus, for all $i \\geq k$, $u_i = u_T$, $x_i = x_k$ and $l(x_i, u_T)=0$"
   ]
  },
  {
   "cell_type": "markdown",
   "metadata": {
    "collapsed": true
   },
   "source": [
    "At some stage enough iterations have been run to produce an optimal plan from every state that can reach $X_G$. From that stage, say $k$, the cost-to-go values no longer depends on the particular stage $k$: $i \\leq k$, $G_{i-1}^*(x) = G_i^*(x)$ for all $x \\in X$. The recurrence for backward tracking becomes:\n",
    "\n",
    "$$\n",
    "G^*(x)=\\min_u\\left\\{l(x, u) + G^*(f(x, u))\\right\\}\n",
    "\\tag{2.18}\n",
    "$$"
   ]
  },
  {
   "cell_type": "markdown",
   "metadata": {},
   "source": [
    "Consider starting from some $x \\in X$. The optimal next action is given by\n",
    "\n",
    "$$\n",
    "\\DeclareMathOperator*{\\argmin}{arg\\,min}\n",
    "u^* = \\argmin_{u \\in U(x)}\\left\\{l(x, u) + G^*(f(x, u))\\right\\}\n",
    "\\tag{2.19}\n",
    "$$"
   ]
  },
  {
   "cell_type": "markdown",
   "metadata": {},
   "source": [
    "For optimal action sequence for forward tracking for any specified goal $x_G \\in X$ can be obtained using\n",
    "\n",
    "$$\n",
    "\\argmin_{u^{-1}\\in U^{-1}}\\left\\{\n",
    "C^*(f^{-1}(x, u^{-1})) + l(f^{-1}(x, u^{-1}), u')\n",
    "\\right\\}\n",
    "\\tag{2.20}\n",
    "$$\n",
    "\n",
    "where $u'$ is the action in $U(f^{-1}(x, u^{-1}))$  that yields $x$ when the state transition function $f$ is applied."
   ]
  },
  {
   "cell_type": "markdown",
   "metadata": {},
   "source": [
    "## Discrete Logical Planning\n",
    "### Formulation 2.4 (STRIPS-Like Planning)\n",
    "1. A finite, nonempty set $i$ of instances.\n",
    "2. A finite, nonempty set $P$ of predicates. A positive literal is an application of a predicate to a set of instances. A negative literal is a negated positive literal.\n",
    "3. A finite, nonempty set $O$ of operators, each of which has preconditions - predicates that must hold for the operator to apply - and effects - literals resulting from the application of the operator.\n",
    "4. An initial set $S$ expressed as a set of positive literals. For any positive literal that does not appear in $S$, its corresponding negative literal is assumed to hold initially.\n",
    "5. A goal set $G$ which is expressed as a set of both positive and negative literals."
   ]
  },
  {
   "cell_type": "code",
   "execution_count": null,
   "metadata": {
    "collapsed": true
   },
   "outputs": [],
   "source": []
  }
 ],
 "metadata": {
  "kernelspec": {
   "display_name": "Python 2",
   "language": "python",
   "name": "python2"
  },
  "language_info": {
   "codemirror_mode": {
    "name": "ipython",
    "version": 2
   },
   "file_extension": ".py",
   "mimetype": "text/x-python",
   "name": "python",
   "nbconvert_exporter": "python",
   "pygments_lexer": "ipython2",
   "version": "2.7.11"
  }
 },
 "nbformat": 4,
 "nbformat_minor": 0
}
